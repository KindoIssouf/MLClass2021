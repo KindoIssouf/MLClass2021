{
  "nbformat": 4,
  "nbformat_minor": 0,
  "metadata": {
    "colab": {
      "name": "Naivebayes.ipynb",
      "provenance": [],
      "authorship_tag": "ABX9TyMSKbPcc3oC72qD72hlAIZu",
      "include_colab_link": true
    },
    "kernelspec": {
      "name": "python3",
      "display_name": "Python 3"
    },
    "language_info": {
      "name": "python"
    }
  },
  "cells": [
    {
      "cell_type": "markdown",
      "metadata": {
        "id": "view-in-github",
        "colab_type": "text"
      },
      "source": [
        "<a href=\"https://colab.research.google.com/github/KindoIssouf/MLClass2021/blob/main/Naivebayes.ipynb\" target=\"_parent\"><img src=\"https://colab.research.google.com/assets/colab-badge.svg\" alt=\"Open In Colab\"/></a>"
      ]
    },
    {
      "cell_type": "code",
      "metadata": {
        "id": "wgZTf0jechvv"
      },
      "source": [
        "import numpy as np\n",
        "import matplotlib.pyplot as plt\n",
        "import pandas as pd\n",
        "from sklearn.model_selection import train_test_split \n",
        "from sklearn.neighbors import KernelDensity\n",
        "import io\n",
        "from scipy import stats\n",
        "import seaborn as sns\n",
        "from scipy.stats import norm\n"
      ],
      "execution_count": null,
      "outputs": []
    },
    {
      "cell_type": "code",
      "metadata": {
        "id": "e-gGTdx0c_A3"
      },
      "source": [
        "\n",
        "class NB:\n",
        "    def fit(self, X, y):\n",
        "        self.n_samples, self.n_features = X.shape  \n",
        "        # P(y|X) = P(y)*P(X|y)\n",
        "        self.classes = np.unique(y)\n",
        "\n",
        "        # empty containers\n",
        "        self.means = np.zeros((len(self.classes), self.n_features), dtype=float);\n",
        "        self.variances = np.zeros((len(self.classes), self.n_features), dtype=float);\n",
        "        self.class_prior = np.zeros(len(self.classes), dtype=float);\n",
        "\n",
        "        for idx, cl in enumerate(self.classes):\n",
        "            current_class = self.getCurentClass(X,y,cl)\n",
        "            self.class_prior[idx] = len(current_class) / float(len(X))\n",
        "            self.means[idx, :] = current_class.mean(axis=0)\n",
        "            self.variances[idx, :] = current_class.std(axis=0)\n",
        "\n",
        "    def predic(self, X):\n",
        "         pred = [self.help_pred(x) for x in X]\n",
        "         return pred\n",
        "\n",
        "    def help_pred(self,x):\n",
        "        posterieur = []\n",
        "        for cl, current_class_prior in enumerate(self.class_prior):\n",
        "            cl_c = np.sum(self.gaussian(x, self.means[cl], self.variances[cl]))\n",
        "            posterieur.append(np.log(current_class_prior) + np.log( cl_c))\n",
        "        return self.classes[np.argmax(posterieur)]\n",
        "\n",
        "    # def gaussian(self, x, mean, variance):\n",
        "    #     return 1/(np.sqrt(variance)* np.sqrt(2 * np.pi)) * np.exp( - (x - mean)**2 / (2 * variance**2))\n",
        "    def gaussian(self,x, mean , sd):\n",
        "        prob_density = norm(mean, sd).pdf(x)\n",
        "        # prob_density = (np.pi*sd) * np.exp(-0.5*((x-mean)/sd)**2)\n",
        "        return prob_density\n",
        "\n",
        "    def getCurentClass(self,X,y, cl):\n",
        "      r = []\n",
        "      for idx in X.index.to_list():\n",
        "          f = y.loc[idx]\n",
        "          if f.iloc[0] == cl:\n",
        "            r.append(X.loc[idx].to_numpy())\n",
        "      return  pd.DataFrame(r)\n",
        "\n",
        "    def accuracy(self,pred, y):\n",
        "      top = 0\n",
        "      for i in range(len(y)):\n",
        "          if pred[i] == y[i]:\n",
        "            top += 1\n",
        "      return (top/len(y))\n",
        "\n",
        "    def evaluate(self, pred, y_test):\n",
        "        y_test = [x[0] for x in y_test]\n",
        "\n",
        "        confusion_matrix = {\"TP\": 0, \"FN\": 0, \"TN\": 0, \"FP\": 0}\n",
        "        for index in range(len(y_test)):\n",
        "          if pred[index] == y_test[index] and pred[index]  == 1:\n",
        "              confusion_matrix[\"TP\"] += 1\n",
        "          if pred[index] == y_test[index] and pred[index] == -1:\n",
        "              confusion_matrix[\"TN\"] += 1\n",
        "          if pred[index] != y_test[index] and pred[index] == 1:\n",
        "              confusion_matrix[\"FP\"] += 1\n",
        "          if pred[index] != y_test[index] and pred[index] == -1:\n",
        "              confusion_matrix[\"FN\"] += 1\n",
        "        print(\"--------confusion matrix -----------------\")\n",
        "        tm = \"\\t +1\\t\\t -1\\n +1\\t TP: \" + str(confusion_matrix[\"TP\"]) + \"\\t\\t FN: \" + str(\n",
        "            confusion_matrix[\"FN\"]) + \"\\n -1\\t FP: \" + str(confusion_matrix[\"FP\"]) + \"\\t\\t TN: \" + str(\n",
        "            confusion_matrix[\"TN\"])\n",
        "\n",
        "        print(tm)\n",
        "        print(\"\\n Accuracy : \", self.accuracy(pred, y_test))\n"
      ],
      "execution_count": null,
      "outputs": []
    },
    {
      "cell_type": "code",
      "metadata": {
        "colab": {
          "resources": {
            "http://localhost:8080/nbextensions/google.colab/files.js": {
              "data": "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",
              "ok": true,
              "headers": [
                [
                  "content-type",
                  "application/javascript"
                ]
              ],
              "status": 200,
              "status_text": ""
            }
          },
          "base_uri": "https://localhost:8080/",
          "height": 72
        },
        "id": "1XcmhC6jim6K",
        "outputId": "26e04a86-744c-4adc-db60-e974f389e42b"
      },
      "source": [
        "from google.colab import files\n",
        "uploaded = files.upload()\n"
      ],
      "execution_count": null,
      "outputs": [
        {
          "output_type": "display_data",
          "data": {
            "text/html": [
              "\n",
              "     <input type=\"file\" id=\"files-f46aa7fc-42ec-4b27-8529-70980069b560\" name=\"files[]\" multiple disabled\n",
              "        style=\"border:none\" />\n",
              "     <output id=\"result-f46aa7fc-42ec-4b27-8529-70980069b560\">\n",
              "      Upload widget is only available when the cell has been executed in the\n",
              "      current browser session. Please rerun this cell to enable.\n",
              "      </output>\n",
              "      <script src=\"/nbextensions/google.colab/files.js\"></script> "
            ],
            "text/plain": [
              "<IPython.core.display.HTML object>"
            ]
          },
          "metadata": {}
        },
        {
          "output_type": "stream",
          "name": "stdout",
          "text": [
            "Saving wdbc.data.mb (1).csv to wdbc.data.mb (1) (1).csv\n"
          ]
        }
      ]
    },
    {
      "cell_type": "code",
      "metadata": {
        "colab": {
          "base_uri": "https://localhost:8080/",
          "height": 265
        },
        "id": "Qzaidob30v21",
        "outputId": "f18c170a-93c8-4d55-c077-535cbb15676f"
      },
      "source": [
        "df = pd.read_csv(io.BytesIO(uploaded['wdbc.data.mb (1).csv']),  names=[x for x in range(31)] )\n",
        "# df = pd.read_csv(\"wdbc.data.mb.csv\")\n",
        "plt.hist(df.iloc[:,30])\n",
        "plt.show()\n",
        "\n",
        "# apply the z-score method in Pandas using the .mean() and .std() methods\n",
        "def z_score(df):\n",
        "    # copy the dataframe\n",
        "    df_std = df.copy()\n",
        "    # apply the z-score method\n",
        "    for column in df_std.columns:\n",
        "        df_std[column] = (df_std[column] - df_std[column].mean()) / df_std[column].std()\n",
        "\n",
        "    return df_std"
      ],
      "execution_count": null,
      "outputs": [
        {
          "output_type": "display_data",
          "data": {
            "image/png": "[encoded data removed]",
            "text/plain": [
              "<Figure size 432x288 with 1 Axes>"
            ]
          },
          "metadata": {
            "needs_background": "light"
          }
        }
      ]
    },
    {
      "cell_type": "code",
      "metadata": {
        "colab": {
          "base_uri": "https://localhost:8080/",
          "height": 386
        },
        "id": "aThK-pKYj-8I",
        "outputId": "0b53a2cb-0885-45ae-84a3-46a0edde3808"
      },
      "source": [
        "#data distribution check\n",
        "sns.displot(df, x=2)\n"
      ],
      "execution_count": null,
      "outputs": [
        {
          "output_type": "execute_result",
          "data": {
            "text/plain": [
              "<seaborn.axisgrid.FacetGrid at 0x7ff3b8133110>"
            ]
          },
          "metadata": {},
          "execution_count": 6
        },
        {
          "output_type": "display_data",
          "data": {
            "image/png": "[encoded data removed]",
            "text/plain": [
              "<Figure size 360x360 with 1 Axes>"
            ]
          },
          "metadata": {
            "needs_background": "light"
          }
        }
      ]
    },
    {
      "cell_type": "code",
      "metadata": {
        "colab": {
          "base_uri": "https://localhost:8080/",
          "height": 224
        },
        "id": "m1m_7-OkT1oZ",
        "outputId": "5f0d30b7-b492-4f76-bc4d-cd7c189af2b7"
      },
      "source": [
        "df.head()"
      ],
      "execution_count": null,
      "outputs": [
        {
          "output_type": "execute_result",
          "data": {
            "text/html": [
              "<div>\n",
              "<style scoped>\n",
              "    .dataframe tbody tr th:only-of-type {\n",
              "        vertical-align: middle;\n",
              "    }\n",
              "\n",
              "    .dataframe tbody tr th {\n",
              "        vertical-align: top;\n",
              "    }\n",
              "\n",
              "    .dataframe thead th {\n",
              "        text-align: right;\n",
              "    }\n",
              "</style>\n",
              "<table border=\"1\" class=\"dataframe\">\n",
              "  <thead>\n",
              "    <tr style=\"text-align: right;\">\n",
              "      <th></th>\n",
              "      <th>0</th>\n",
              "      <th>1</th>\n",
              "      <th>2</th>\n",
              "      <th>3</th>\n",
              "      <th>4</th>\n",
              "      <th>5</th>\n",
              "      <th>6</th>\n",
              "      <th>7</th>\n",
              "      <th>8</th>\n",
              "      <th>9</th>\n",
              "      <th>10</th>\n",
              "      <th>11</th>\n",
              "      <th>12</th>\n",
              "      <th>13</th>\n",
              "      <th>14</th>\n",
              "      <th>15</th>\n",
              "      <th>16</th>\n",
              "      <th>17</th>\n",
              "      <th>18</th>\n",
              "      <th>19</th>\n",
              "      <th>20</th>\n",
              "      <th>21</th>\n",
              "      <th>22</th>\n",
              "      <th>23</th>\n",
              "      <th>24</th>\n",
              "      <th>25</th>\n",
              "      <th>26</th>\n",
              "      <th>27</th>\n",
              "      <th>28</th>\n",
              "      <th>29</th>\n",
              "      <th>30</th>\n",
              "    </tr>\n",
              "  </thead>\n",
              "  <tbody>\n",
              "    <tr>\n",
              "      <th>0</th>\n",
              "      <td>8.196</td>\n",
              "      <td>16.84</td>\n",
              "      <td>51.71</td>\n",
              "      <td>201.9</td>\n",
              "      <td>0.08600</td>\n",
              "      <td>0.05943</td>\n",
              "      <td>0.01588</td>\n",
              "      <td>0.005917</td>\n",
              "      <td>0.1769</td>\n",
              "      <td>0.06503</td>\n",
              "      <td>0.1563</td>\n",
              "      <td>0.9567</td>\n",
              "      <td>1.094</td>\n",
              "      <td>8.205</td>\n",
              "      <td>0.008968</td>\n",
              "      <td>0.016460</td>\n",
              "      <td>0.01588</td>\n",
              "      <td>0.005917</td>\n",
              "      <td>0.02574</td>\n",
              "      <td>0.002582</td>\n",
              "      <td>8.964</td>\n",
              "      <td>21.96</td>\n",
              "      <td>57.26</td>\n",
              "      <td>242.2</td>\n",
              "      <td>0.1297</td>\n",
              "      <td>0.13570</td>\n",
              "      <td>0.06880</td>\n",
              "      <td>0.02564</td>\n",
              "      <td>0.3105</td>\n",
              "      <td>0.07409</td>\n",
              "      <td>-1</td>\n",
              "    </tr>\n",
              "    <tr>\n",
              "      <th>1</th>\n",
              "      <td>13.170</td>\n",
              "      <td>18.66</td>\n",
              "      <td>85.98</td>\n",
              "      <td>534.6</td>\n",
              "      <td>0.11580</td>\n",
              "      <td>0.12310</td>\n",
              "      <td>0.12260</td>\n",
              "      <td>0.073400</td>\n",
              "      <td>0.2128</td>\n",
              "      <td>0.06777</td>\n",
              "      <td>0.2871</td>\n",
              "      <td>0.8937</td>\n",
              "      <td>1.897</td>\n",
              "      <td>24.250</td>\n",
              "      <td>0.006532</td>\n",
              "      <td>0.023360</td>\n",
              "      <td>0.02905</td>\n",
              "      <td>0.012150</td>\n",
              "      <td>0.01743</td>\n",
              "      <td>0.003643</td>\n",
              "      <td>15.670</td>\n",
              "      <td>27.95</td>\n",
              "      <td>102.80</td>\n",
              "      <td>759.4</td>\n",
              "      <td>0.1786</td>\n",
              "      <td>0.41660</td>\n",
              "      <td>0.50060</td>\n",
              "      <td>0.20880</td>\n",
              "      <td>0.3900</td>\n",
              "      <td>0.11790</td>\n",
              "      <td>1</td>\n",
              "    </tr>\n",
              "    <tr>\n",
              "      <th>2</th>\n",
              "      <td>12.050</td>\n",
              "      <td>14.63</td>\n",
              "      <td>78.04</td>\n",
              "      <td>449.3</td>\n",
              "      <td>0.10310</td>\n",
              "      <td>0.09092</td>\n",
              "      <td>0.06592</td>\n",
              "      <td>0.027490</td>\n",
              "      <td>0.1675</td>\n",
              "      <td>0.06043</td>\n",
              "      <td>0.2636</td>\n",
              "      <td>0.7294</td>\n",
              "      <td>1.848</td>\n",
              "      <td>19.870</td>\n",
              "      <td>0.005488</td>\n",
              "      <td>0.014270</td>\n",
              "      <td>0.02322</td>\n",
              "      <td>0.005660</td>\n",
              "      <td>0.01428</td>\n",
              "      <td>0.002422</td>\n",
              "      <td>13.760</td>\n",
              "      <td>20.70</td>\n",
              "      <td>89.88</td>\n",
              "      <td>582.6</td>\n",
              "      <td>0.1494</td>\n",
              "      <td>0.21560</td>\n",
              "      <td>0.30500</td>\n",
              "      <td>0.06548</td>\n",
              "      <td>0.2747</td>\n",
              "      <td>0.08301</td>\n",
              "      <td>-1</td>\n",
              "    </tr>\n",
              "    <tr>\n",
              "      <th>3</th>\n",
              "      <td>13.490</td>\n",
              "      <td>22.30</td>\n",
              "      <td>86.91</td>\n",
              "      <td>561.0</td>\n",
              "      <td>0.08752</td>\n",
              "      <td>0.07698</td>\n",
              "      <td>0.04751</td>\n",
              "      <td>0.033840</td>\n",
              "      <td>0.1809</td>\n",
              "      <td>0.05718</td>\n",
              "      <td>0.2338</td>\n",
              "      <td>1.3530</td>\n",
              "      <td>1.735</td>\n",
              "      <td>20.200</td>\n",
              "      <td>0.004455</td>\n",
              "      <td>0.013820</td>\n",
              "      <td>0.02095</td>\n",
              "      <td>0.011840</td>\n",
              "      <td>0.01641</td>\n",
              "      <td>0.001956</td>\n",
              "      <td>15.150</td>\n",
              "      <td>31.82</td>\n",
              "      <td>99.00</td>\n",
              "      <td>698.8</td>\n",
              "      <td>0.1162</td>\n",
              "      <td>0.17110</td>\n",
              "      <td>0.22820</td>\n",
              "      <td>0.12820</td>\n",
              "      <td>0.2871</td>\n",
              "      <td>0.06917</td>\n",
              "      <td>-1</td>\n",
              "    </tr>\n",
              "    <tr>\n",
              "      <th>4</th>\n",
              "      <td>11.760</td>\n",
              "      <td>21.60</td>\n",
              "      <td>74.72</td>\n",
              "      <td>427.9</td>\n",
              "      <td>0.08637</td>\n",
              "      <td>0.04966</td>\n",
              "      <td>0.01657</td>\n",
              "      <td>0.011150</td>\n",
              "      <td>0.1495</td>\n",
              "      <td>0.05888</td>\n",
              "      <td>0.4062</td>\n",
              "      <td>1.2100</td>\n",
              "      <td>2.635</td>\n",
              "      <td>28.470</td>\n",
              "      <td>0.005857</td>\n",
              "      <td>0.009758</td>\n",
              "      <td>0.01168</td>\n",
              "      <td>0.007445</td>\n",
              "      <td>0.02406</td>\n",
              "      <td>0.001769</td>\n",
              "      <td>12.980</td>\n",
              "      <td>25.72</td>\n",
              "      <td>82.98</td>\n",
              "      <td>516.5</td>\n",
              "      <td>0.1085</td>\n",
              "      <td>0.08615</td>\n",
              "      <td>0.05523</td>\n",
              "      <td>0.03715</td>\n",
              "      <td>0.2433</td>\n",
              "      <td>0.06563</td>\n",
              "      <td>-1</td>\n",
              "    </tr>\n",
              "  </tbody>\n",
              "</table>\n",
              "</div>"
            ],
            "text/plain": [
              "       0      1      2      3        4   ...       26       27      28       29  30\n",
              "0   8.196  16.84  51.71  201.9  0.08600  ...  0.06880  0.02564  0.3105  0.07409  -1\n",
              "1  13.170  18.66  85.98  534.6  0.11580  ...  0.50060  0.20880  0.3900  0.11790   1\n",
              "2  12.050  14.63  78.04  449.3  0.10310  ...  0.30500  0.06548  0.2747  0.08301  -1\n",
              "3  13.490  22.30  86.91  561.0  0.08752  ...  0.22820  0.12820  0.2871  0.06917  -1\n",
              "4  11.760  21.60  74.72  427.9  0.08637  ...  0.05523  0.03715  0.2433  0.06563  -1\n",
              "\n",
              "[5 rows x 31 columns]"
            ]
          },
          "metadata": {},
          "execution_count": 6
        }
      ]
    },
    {
      "cell_type": "code",
      "metadata": {
        "colab": {
          "base_uri": "https://localhost:8080/"
        },
        "id": "EZd68hi4DjqW",
        "outputId": "358a9084-f29b-4a2a-c9fd-334a4e8cfbbd"
      },
      "source": [
        "# with normalization\n",
        "X=df.iloc[:, :30]\n",
        "X= z_score(X)\n",
        "y=df.iloc[:, 30:31]\n",
        "X_train, X_test, y_train, y_test = train_test_split(X, y, test_size=0.3, random_state=1234)\n",
        "nb = NB()\n",
        "nb.fit(X_train,y_train)\n",
        "pred = nb.predic(X_test.to_numpy())\n",
        "nb.evaluate(nb.predic(X_test.to_numpy()), y_test.to_numpy())\n"
      ],
      "execution_count": null,
      "outputs": [
        {
          "output_type": "stream",
          "name": "stdout",
          "text": [
            "--------confusion matrix -----------------\n",
            "\t +1\t\t -1\n",
            " +1\t TP: 53\t\t FN: 15\n",
            " -1\t FP: 3\t\t TN: 113\n",
            "\n",
            " Accuracy :  0.9021739130434783\n"
          ]
        }
      ]
    },
    {
      "cell_type": "code",
      "metadata": {
        "colab": {
          "base_uri": "https://localhost:8080/"
        },
        "id": "z_MQOoAlKQve",
        "outputId": "da550489-8295-4ec4-bfd7-3618d04a844f"
      },
      "source": [
        "# K-fold\n",
        "def k_fold_val( df,k=5):\n",
        "  df = df.sample(n=len(df), random_state=1234)\n",
        "  training_ratio = 1/k * len(df)\n",
        "  begin = 0\n",
        "  end = int(training_ratio)\n",
        "  accuracies = np.zeros(k,dtype = float)\n",
        "  for i in range(k):\n",
        "    nb = NB()\n",
        "    traning = df.iloc[end: , : ]\n",
        "    if begin <0:\n",
        "      traning.append(df.iloc[ :begin, : ])\n",
        "    testing = df.iloc[begin:end, : ]\n",
        "    begin += int(training_ratio)\n",
        "    end += int(training_ratio)\n",
        "    X_train = traning.iloc[ :, :len(df.columns)-1]\n",
        "    y_train = traning.iloc[ :, len(df.columns)-1:len(df.columns)]\n",
        "    X_test = testing.iloc[ :, :len(df.columns)-1]\n",
        "    y_test = testing.iloc[ :,  len(df.columns)-1:len(df.columns)]\n",
        "    X_train = z_score(X_train)\n",
        "    X_test = z_score(X_test)\n",
        "    nb.fit(X_train,y_train)\n",
        "    pred = nb.predic(X_test.to_numpy())\n",
        "    nb.evaluate(pred ,y_test.to_numpy())\n",
        "    accuracies[i] = nb.accuracy(pred, y_test.to_numpy())\n",
        "  # print(accuracies)\n",
        "\n",
        "  print(\"\\n----5-fold: Average Accuracy -----------------\")\n",
        "  print(\"\\n Average Accuracy: \",accuracies.mean())\n",
        "  print(\"\\n-----------------------------------------\")\n",
        "\n",
        "k_fold_val(df)\n",
        "# df = df.sample(n=len(df), random_state=123)\n",
        "# k_fold_val()\n",
        "# df = df.sample(n=len(df), random_state=12)\n",
        "# k_fold_val()"
      ],
      "execution_count": null,
      "outputs": [
        {
          "output_type": "stream",
          "name": "stdout",
          "text": [
            "--------confusion matrix -----------------\n",
            "\t +1\t\t -1\n",
            " +1\t TP: 36\t\t FN: 10\n",
            " -1\t FP: 3\t\t TN: 73\n",
            "\n",
            " Accuracy :  0.8934426229508197\n",
            "--------confusion matrix -----------------\n",
            "\t +1\t\t -1\n",
            " +1\t TP: 40\t\t FN: 7\n",
            " -1\t FP: 1\t\t TN: 74\n",
            "\n",
            " Accuracy :  0.9344262295081968\n",
            "--------confusion matrix -----------------\n",
            "\t +1\t\t -1\n",
            " +1\t TP: 36\t\t FN: 10\n",
            " -1\t FP: 1\t\t TN: 75\n",
            "\n",
            " Accuracy :  0.9098360655737705\n",
            "--------confusion matrix -----------------\n",
            "\t +1\t\t -1\n",
            " +1\t TP: 38\t\t FN: 8\n",
            " -1\t FP: 2\t\t TN: 74\n",
            "\n",
            " Accuracy :  0.9180327868852459\n",
            "--------confusion matrix -----------------\n",
            "\t +1\t\t -1\n",
            " +1\t TP: 0\t\t FN: 48\n",
            " -1\t FP: 0\t\t TN: 74\n",
            "\n",
            " Accuracy :  0.6065573770491803\n",
            "\n",
            "----5-fold: Average Accuracy -----------------\n",
            "\n",
            " Average Accuracy:  0.8524590163934427\n",
            "\n",
            "-----------------------------------------\n"
          ]
        }
      ]
    },
    {
      "cell_type": "code",
      "metadata": {
        "colab": {
          "base_uri": "https://localhost:8080/",
          "height": 266
        },
        "id": "zVUwNcz59s87",
        "outputId": "359555d3-49ed-4c86-dbe2-1f480491b28c"
      },
      "source": [
        "corr = df.corr(method='pearson')\n",
        "plt.imshow(corr, cmap='hot', interpolation='nearest')\n",
        "plt.show()"
      ],
      "execution_count": null,
      "outputs": [
        {
          "output_type": "display_data",
          "data": {
            "image/png": "[encoded data removed]",
            "text/plain": [
              "<Figure size 432x288 with 1 Axes>"
            ]
          },
          "metadata": {
            "needs_background": "light"
          }
        }
      ]
    },
    {
      "cell_type": "code",
      "metadata": {
        "id": "Ttwo6Laci-lV",
        "colab": {
          "base_uri": "https://localhost:8080/"
        },
        "outputId": "7749e909-66d4-4e69-93d8-456503b91a59"
      },
      "source": [
        "# dropping highly correlated features\n",
        "df_cleaned = df\n",
        "for i in range(len(corr)):\n",
        "  for j in range(len(corr)):\n",
        "    if corr[i][j] <=  .8   :\n",
        "      continue\n",
        "    else:\n",
        "      if i != j and j in df_cleaned.columns:\n",
        "        df_cleaned = df_cleaned.drop(columns=[j] , axis=1)\n",
        "\n",
        "print(df_cleaned.head())\n"
      ],
      "execution_count": null,
      "outputs": [
        {
          "output_type": "stream",
          "name": "stdout",
          "text": [
            "        4       8        9       11  ...       18      24      28  30\n",
            "0  0.08600  0.1769  0.06503  0.9567  ...  0.02574  0.1297  0.3105  -1\n",
            "1  0.11580  0.2128  0.06777  0.8937  ...  0.01743  0.1786  0.3900   1\n",
            "2  0.10310  0.1675  0.06043  0.7294  ...  0.01428  0.1494  0.2747  -1\n",
            "3  0.08752  0.1809  0.05718  1.3530  ...  0.01641  0.1162  0.2871  -1\n",
            "4  0.08637  0.1495  0.05888  1.2100  ...  0.02406  0.1085  0.2433  -1\n",
            "\n",
            "[5 rows x 10 columns]\n"
          ]
        }
      ]
    },
    {
      "cell_type": "code",
      "metadata": {
        "colab": {
          "base_uri": "https://localhost:8080/",
          "height": 265
        },
        "id": "AXuO9Ec19v4b",
        "outputId": "3761e605-cae1-494e-e3d3-2421725bcc34"
      },
      "source": [
        "corr = df_cleaned.corr(method='pearson')\n",
        "plt.imshow(corr, cmap='hot', interpolation='nearest')\n",
        "plt.show()"
      ],
      "execution_count": null,
      "outputs": [
        {
          "output_type": "display_data",
          "data": {
            "image/png": "[encoded data removed]",
            "text/plain": [
              "<Figure size 432x288 with 1 Axes>"
            ]
          },
          "metadata": {
            "needs_background": "light"
          }
        }
      ]
    },
    {
      "cell_type": "code",
      "metadata": {
        "colab": {
          "base_uri": "https://localhost:8080/"
        },
        "id": "zSbfZgWil92B",
        "outputId": "9ace206f-801f-4da7-9407-954c3a13f3e3"
      },
      "source": [
        "X=df_cleaned.iloc[:, :len(df_cleaned.columns) - 1 ]\n",
        "X= z_score(X)\n",
        "y=df_cleaned.iloc[:, -1]\n",
        "y = y.to_frame()\n",
        "X_train, X_test, y_train, y_test = train_test_split(X, y, test_size=0.3, random_state=1234)\n",
        "nb = NB()\n",
        "nb.fit(X_train,y_train)\n",
        "pred = nb.predic(X_test.to_numpy())\n",
        "k_fold_val(df_cleaned)\n",
        "# print(nb.evaluate(pred,y_test.to_numpy()))"
      ],
      "execution_count": null,
      "outputs": [
        {
          "output_type": "stream",
          "name": "stdout",
          "text": [
            "--------confusion matrix -----------------\n",
            "\t +1\t\t -1\n",
            " +1\t TP: 2\t\t FN: 44\n",
            " -1\t FP: 3\t\t TN: 73\n",
            "\n",
            " Accuracy :  0.6147540983606558\n",
            "--------confusion matrix -----------------\n",
            "\t +1\t\t -1\n",
            " +1\t TP: 6\t\t FN: 41\n",
            " -1\t FP: 1\t\t TN: 74\n",
            "\n",
            " Accuracy :  0.6557377049180327\n",
            "--------confusion matrix -----------------\n",
            "\t +1\t\t -1\n",
            " +1\t TP: 10\t\t FN: 36\n",
            " -1\t FP: 1\t\t TN: 75\n",
            "\n",
            " Accuracy :  0.6967213114754098\n",
            "--------confusion matrix -----------------\n",
            "\t +1\t\t -1\n",
            " +1\t TP: 1\t\t FN: 45\n",
            " -1\t FP: 0\t\t TN: 76\n",
            "\n",
            " Accuracy :  0.6311475409836066\n",
            "--------confusion matrix -----------------\n",
            "\t +1\t\t -1\n",
            " +1\t TP: 0\t\t FN: 48\n",
            " -1\t FP: 0\t\t TN: 74\n",
            "\n",
            " Accuracy :  0.6065573770491803\n",
            "\n",
            "----5-fold: Average Accuracy -----------------\n",
            "\n",
            " Average Accuracy:  0.6409836065573771\n",
            "\n",
            "-----------------------------------------\n"
          ]
        }
      ]
    },
    {
      "cell_type": "code",
      "metadata": {
        "colab": {
          "base_uri": "https://localhost:8080/",
          "height": 418
        },
        "id": "_hQKctSzB1eE",
        "outputId": "7240adf9-6042-4197-e051-3488b4fb0a2e"
      },
      "source": [
        "neg =  df[df[30] == -1]\n",
        "pos =  df[df[30] == 1]\n",
        "print()\n",
        "p = pos.sample((len(neg)-len(pos)), random_state=1234)\n",
        "df_long = df.append(p,  ignore_index=True)\n",
        "df_long = df_long.sample(n=len(df), random_state=1234)\n",
        "print(df_long.tail())\n",
        "plt.hist(df_long.iloc[:,30])\n",
        "plt.show()"
      ],
      "execution_count": null,
      "outputs": [
        {
          "output_type": "stream",
          "name": "stdout",
          "text": [
            "\n",
            "        0      1       2       3   ...       27      28       29  30\n",
            "540  16.13  20.68  108.10   798.8  ...  0.20730  0.3706  0.11420   1\n",
            "317  16.50  18.29  106.60   838.1  ...  0.09123  0.2394  0.06469  -1\n",
            "596  13.65  13.16   87.88   568.9  ...  0.08056  0.2380  0.08718  -1\n",
            "164  20.58  22.14  134.70  1290.0  ...  0.19200  0.2909  0.05865   1\n",
            "746  20.13  28.25  131.20  1261.0  ...  0.16280  0.2572  0.06637   1\n",
            "\n",
            "[5 rows x 31 columns]\n"
          ]
        },
        {
          "output_type": "display_data",
          "data": {
            "image/png": "[encoded data removed]",
            "text/plain": [
              "<Figure size 432x288 with 1 Axes>"
            ]
          },
          "metadata": {
            "needs_background": "light"
          }
        }
      ]
    },
    {
      "cell_type": "code",
      "metadata": {
        "colab": {
          "base_uri": "https://localhost:8080/"
        },
        "id": "li9EK2NKJCdD",
        "outputId": "c1722ca2-0028-41ea-df27-adb5ed50aecf"
      },
      "source": [
        "X=df_long.iloc[:, :len(df_long.columns) - 1 ]\n",
        "X= z_score(X)\n",
        "y=df_long.iloc[:, -1]\n",
        "y = y.to_frame()\n",
        "X_train, X_test, y_train, y_test = train_test_split(X, y, test_size=0.3, random_state=1234)\n",
        "nb = NB()\n",
        "nb.fit(X_train,y_train)\n",
        "pred = nb.predic(X_test.to_numpy())\n",
        "# print(nb.evaluate(pred,y_test.to_numpy()))\n",
        "k_fold_val(df_long)\n"
      ],
      "execution_count": null,
      "outputs": [
        {
          "output_type": "stream",
          "name": "stdout",
          "text": [
            "--------confusion matrix -----------------\n",
            "\t +1\t\t -1\n",
            " +1\t TP: 54\t\t FN: 0\n",
            " -1\t FP: 52\t\t TN: 16\n",
            "\n",
            " Accuracy :  0.5737704918032787\n",
            "--------confusion matrix -----------------\n",
            "\t +1\t\t -1\n",
            " +1\t TP: 61\t\t FN: 0\n",
            " -1\t FP: 34\t\t TN: 27\n",
            "\n",
            " Accuracy :  0.7213114754098361\n",
            "--------confusion matrix -----------------\n",
            "\t +1\t\t -1\n",
            " +1\t TP: 59\t\t FN: 0\n",
            " -1\t FP: 58\t\t TN: 5\n",
            "\n",
            " Accuracy :  0.5245901639344263\n",
            "--------confusion matrix -----------------\n",
            "\t +1\t\t -1\n",
            " +1\t TP: 63\t\t FN: 0\n",
            " -1\t FP: 58\t\t TN: 1\n",
            "\n",
            " Accuracy :  0.5245901639344263\n",
            "--------confusion matrix -----------------\n",
            "\t +1\t\t -1\n",
            " +1\t TP: 68\t\t FN: 0\n",
            " -1\t FP: 54\t\t TN: 0\n",
            "\n",
            " Accuracy :  0.5573770491803278\n",
            "\n",
            "----5-fold: Average Accuracy -----------------\n",
            "\n",
            " Average Accuracy:  0.5803278688524591\n",
            "\n",
            "-----------------------------------------\n"
          ]
        }
      ]
    }
  ]
}