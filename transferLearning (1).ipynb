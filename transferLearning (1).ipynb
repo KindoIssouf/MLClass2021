{
  "nbformat": 4,
  "nbformat_minor": 0,
  "metadata": {
    "colab": {
      "name": "transferLearning.ipynb",
      "provenance": []
    },
    "kernelspec": {
      "name": "python3",
      "display_name": "Python 3"
    },
    "language_info": {
      "name": "python"
    }
  },
  "cells": [
    {
      "cell_type": "code",
      "metadata": {
        "colab": {
          "base_uri": "https://localhost:8080/"
        },
        "id": "c4xGUKdqJWcR",
        "outputId": "9ae79ebe-5727-4c46-9274-caf4b71c7cf1"
      },
      "source": [
        "import tensorflow as tf\n",
        "from tensorflow import keras\n",
        "from tensorflow.keras import layers\n",
        "from PIL import Image\n",
        "import glob\n",
        "import os\n",
        "import zipfile\n",
        "vgg_model = tf.keras.applications.vgg16.VGG16()\n",
        "print(type(vgg_model))\n",
        "vgg_model.summary()"
      ],
      "execution_count": 1,
      "outputs": [
        {
          "output_type": "stream",
          "name": "stdout",
          "text": [
            "Downloading data from https://storage.googleapis.com/tensorflow/keras-applications/vgg16/vgg16_weights_tf_dim_ordering_tf_kernels.h5\n",
            "553467904/553467096 [==============================] - 4s 0us/step\n",
            "553476096/553467096 [==============================] - 4s 0us/step\n",
            "<class 'keras.engine.functional.Functional'>\n",
            "Model: \"vgg16\"\n",
            "_________________________________________________________________\n",
            "Layer (type)                 Output Shape              Param #   \n",
            "=================================================================\n",
            "input_1 (InputLayer)         [(None, 224, 224, 3)]     0         \n",
            "_________________________________________________________________\n",
            "block1_conv1 (Conv2D)        (None, 224, 224, 64)      1792      \n",
            "_________________________________________________________________\n",
            "block1_conv2 (Conv2D)        (None, 224, 224, 64)      36928     \n",
            "_________________________________________________________________\n",
            "block1_pool (MaxPooling2D)   (None, 112, 112, 64)      0         \n",
            "_________________________________________________________________\n",
            "block2_conv1 (Conv2D)        (None, 112, 112, 128)     73856     \n",
            "_________________________________________________________________\n",
            "block2_conv2 (Conv2D)        (None, 112, 112, 128)     147584    \n",
            "_________________________________________________________________\n",
            "block2_pool (MaxPooling2D)   (None, 56, 56, 128)       0         \n",
            "_________________________________________________________________\n",
            "block3_conv1 (Conv2D)        (None, 56, 56, 256)       295168    \n",
            "_________________________________________________________________\n",
            "block3_conv2 (Conv2D)        (None, 56, 56, 256)       590080    \n",
            "_________________________________________________________________\n",
            "block3_conv3 (Conv2D)        (None, 56, 56, 256)       590080    \n",
            "_________________________________________________________________\n",
            "block3_pool (MaxPooling2D)   (None, 28, 28, 256)       0         \n",
            "_________________________________________________________________\n",
            "block4_conv1 (Conv2D)        (None, 28, 28, 512)       1180160   \n",
            "_________________________________________________________________\n",
            "block4_conv2 (Conv2D)        (None, 28, 28, 512)       2359808   \n",
            "_________________________________________________________________\n",
            "block4_conv3 (Conv2D)        (None, 28, 28, 512)       2359808   \n",
            "_________________________________________________________________\n",
            "block4_pool (MaxPooling2D)   (None, 14, 14, 512)       0         \n",
            "_________________________________________________________________\n",
            "block5_conv1 (Conv2D)        (None, 14, 14, 512)       2359808   \n",
            "_________________________________________________________________\n",
            "block5_conv2 (Conv2D)        (None, 14, 14, 512)       2359808   \n",
            "_________________________________________________________________\n",
            "block5_conv3 (Conv2D)        (None, 14, 14, 512)       2359808   \n",
            "_________________________________________________________________\n",
            "block5_pool (MaxPooling2D)   (None, 7, 7, 512)         0         \n",
            "_________________________________________________________________\n",
            "flatten (Flatten)            (None, 25088)             0         \n",
            "_________________________________________________________________\n",
            "fc1 (Dense)                  (None, 4096)              102764544 \n",
            "_________________________________________________________________\n",
            "fc2 (Dense)                  (None, 4096)              16781312  \n",
            "_________________________________________________________________\n",
            "predictions (Dense)          (None, 1000)              4097000   \n",
            "=================================================================\n",
            "Total params: 138,357,544\n",
            "Trainable params: 138,357,544\n",
            "Non-trainable params: 0\n",
            "_________________________________________________________________\n"
          ]
        }
      ]
    },
    {
      "cell_type": "code",
      "metadata": {
        "colab": {
          "base_uri": "https://localhost:8080/"
        },
        "id": "cxo48sNNLLNT",
        "outputId": "dc0abcd6-834e-4049-b48f-b2e38e08269f"
      },
      "source": [
        "# convert to Sequential model, omit the last layer\n",
        "# this works with VGG16 because the structure is linear\n",
        "model = keras.models.Sequential()\n",
        "for layer in vgg_model.layers[0:-1]:\n",
        "    model.add(layer)\n",
        "model.summary()"
      ],
      "execution_count": 2,
      "outputs": [
        {
          "output_type": "stream",
          "name": "stdout",
          "text": [
            "Model: \"sequential\"\n",
            "_________________________________________________________________\n",
            "Layer (type)                 Output Shape              Param #   \n",
            "=================================================================\n",
            "block1_conv1 (Conv2D)        (None, 224, 224, 64)      1792      \n",
            "_________________________________________________________________\n",
            "block1_conv2 (Conv2D)        (None, 224, 224, 64)      36928     \n",
            "_________________________________________________________________\n",
            "block1_pool (MaxPooling2D)   (None, 112, 112, 64)      0         \n",
            "_________________________________________________________________\n",
            "block2_conv1 (Conv2D)        (None, 112, 112, 128)     73856     \n",
            "_________________________________________________________________\n",
            "block2_conv2 (Conv2D)        (None, 112, 112, 128)     147584    \n",
            "_________________________________________________________________\n",
            "block2_pool (MaxPooling2D)   (None, 56, 56, 128)       0         \n",
            "_________________________________________________________________\n",
            "block3_conv1 (Conv2D)        (None, 56, 56, 256)       295168    \n",
            "_________________________________________________________________\n",
            "block3_conv2 (Conv2D)        (None, 56, 56, 256)       590080    \n",
            "_________________________________________________________________\n",
            "block3_conv3 (Conv2D)        (None, 56, 56, 256)       590080    \n",
            "_________________________________________________________________\n",
            "block3_pool (MaxPooling2D)   (None, 28, 28, 256)       0         \n",
            "_________________________________________________________________\n",
            "block4_conv1 (Conv2D)        (None, 28, 28, 512)       1180160   \n",
            "_________________________________________________________________\n",
            "block4_conv2 (Conv2D)        (None, 28, 28, 512)       2359808   \n",
            "_________________________________________________________________\n",
            "block4_conv3 (Conv2D)        (None, 28, 28, 512)       2359808   \n",
            "_________________________________________________________________\n",
            "block4_pool (MaxPooling2D)   (None, 14, 14, 512)       0         \n",
            "_________________________________________________________________\n",
            "block5_conv1 (Conv2D)        (None, 14, 14, 512)       2359808   \n",
            "_________________________________________________________________\n",
            "block5_conv2 (Conv2D)        (None, 14, 14, 512)       2359808   \n",
            "_________________________________________________________________\n",
            "block5_conv3 (Conv2D)        (None, 14, 14, 512)       2359808   \n",
            "_________________________________________________________________\n",
            "block5_pool (MaxPooling2D)   (None, 7, 7, 512)         0         \n",
            "_________________________________________________________________\n",
            "flatten (Flatten)            (None, 25088)             0         \n",
            "_________________________________________________________________\n",
            "fc1 (Dense)                  (None, 4096)              102764544 \n",
            "_________________________________________________________________\n",
            "fc2 (Dense)                  (None, 4096)              16781312  \n",
            "=================================================================\n",
            "Total params: 134,260,544\n",
            "Trainable params: 134,260,544\n",
            "Non-trainable params: 0\n",
            "_________________________________________________________________\n"
          ]
        }
      ]
    },
    {
      "cell_type": "code",
      "metadata": {
        "colab": {
          "base_uri": "https://localhost:8080/"
        },
        "id": "3HslG6U_MJ7i",
        "outputId": "28ccee76-6a0d-433a-8f2b-9add4b71d55a"
      },
      "source": [
        "# set trainable=False for all layers\n",
        "# we don't want to train them again\n",
        "for layer in model.layers:\n",
        "    layer.trainable = False\n",
        "model.summary()"
      ],
      "execution_count": 3,
      "outputs": [
        {
          "output_type": "stream",
          "name": "stdout",
          "text": [
            "Model: \"sequential\"\n",
            "_________________________________________________________________\n",
            "Layer (type)                 Output Shape              Param #   \n",
            "=================================================================\n",
            "block1_conv1 (Conv2D)        (None, 224, 224, 64)      1792      \n",
            "_________________________________________________________________\n",
            "block1_conv2 (Conv2D)        (None, 224, 224, 64)      36928     \n",
            "_________________________________________________________________\n",
            "block1_pool (MaxPooling2D)   (None, 112, 112, 64)      0         \n",
            "_________________________________________________________________\n",
            "block2_conv1 (Conv2D)        (None, 112, 112, 128)     73856     \n",
            "_________________________________________________________________\n",
            "block2_conv2 (Conv2D)        (None, 112, 112, 128)     147584    \n",
            "_________________________________________________________________\n",
            "block2_pool (MaxPooling2D)   (None, 56, 56, 128)       0         \n",
            "_________________________________________________________________\n",
            "block3_conv1 (Conv2D)        (None, 56, 56, 256)       295168    \n",
            "_________________________________________________________________\n",
            "block3_conv2 (Conv2D)        (None, 56, 56, 256)       590080    \n",
            "_________________________________________________________________\n",
            "block3_conv3 (Conv2D)        (None, 56, 56, 256)       590080    \n",
            "_________________________________________________________________\n",
            "block3_pool (MaxPooling2D)   (None, 28, 28, 256)       0         \n",
            "_________________________________________________________________\n",
            "block4_conv1 (Conv2D)        (None, 28, 28, 512)       1180160   \n",
            "_________________________________________________________________\n",
            "block4_conv2 (Conv2D)        (None, 28, 28, 512)       2359808   \n",
            "_________________________________________________________________\n",
            "block4_conv3 (Conv2D)        (None, 28, 28, 512)       2359808   \n",
            "_________________________________________________________________\n",
            "block4_pool (MaxPooling2D)   (None, 14, 14, 512)       0         \n",
            "_________________________________________________________________\n",
            "block5_conv1 (Conv2D)        (None, 14, 14, 512)       2359808   \n",
            "_________________________________________________________________\n",
            "block5_conv2 (Conv2D)        (None, 14, 14, 512)       2359808   \n",
            "_________________________________________________________________\n",
            "block5_conv3 (Conv2D)        (None, 14, 14, 512)       2359808   \n",
            "_________________________________________________________________\n",
            "block5_pool (MaxPooling2D)   (None, 7, 7, 512)         0         \n",
            "_________________________________________________________________\n",
            "flatten (Flatten)            (None, 25088)             0         \n",
            "_________________________________________________________________\n",
            "fc1 (Dense)                  (None, 4096)              102764544 \n",
            "_________________________________________________________________\n",
            "fc2 (Dense)                  (None, 4096)              16781312  \n",
            "=================================================================\n",
            "Total params: 134,260,544\n",
            "Trainable params: 0\n",
            "Non-trainable params: 134,260,544\n",
            "_________________________________________________________________\n"
          ]
        }
      ]
    },
    {
      "cell_type": "code",
      "metadata": {
        "id": "XE2ezWrqMU19"
      },
      "source": [
        "# add a last classification layer for our use case with 5 classes\n",
        "model.add(layers.Dense(2))"
      ],
      "execution_count": 4,
      "outputs": []
    },
    {
      "cell_type": "code",
      "metadata": {
        "colab": {
          "base_uri": "https://localhost:8080/"
        },
        "id": "jJVOv550Mxg2",
        "outputId": "61e51323-86fd-461b-c2dd-c5258368637f"
      },
      "source": [
        "\n",
        "# loss and optimizer\n",
        "loss = keras.losses.SparseCategoricalCrossentropy(from_logits=True)\n",
        "optim = keras.optimizers.Adam(lr=0.001)\n",
        "metrics = [\"accuracy\"]\n",
        "\n",
        "model.compile(optimizer=optim, loss=loss, metrics=metrics )"
      ],
      "execution_count": 5,
      "outputs": [
        {
          "output_type": "stream",
          "name": "stderr",
          "text": [
            "/usr/local/lib/python3.7/dist-packages/keras/optimizer_v2/optimizer_v2.py:356: UserWarning: The `lr` argument is deprecated, use `learning_rate` instead.\n",
            "  \"The `lr` argument is deprecated, use `learning_rate` instead.\")\n"
          ]
        }
      ]
    },
    {
      "cell_type": "code",
      "metadata": {
        "id": "cF6TOt_cKYve"
      },
      "source": [
        "\n",
        "path_to_zip_file = \"/content/DS_IDRID.zip\"\n",
        "directory_to_extract_to = \"/content/data\"\n",
        "with zipfile.ZipFile(path_to_zip_file, 'r') as zip_ref:\n",
        "    zip_ref.extractall(directory_to_extract_to)"
      ],
      "execution_count": 7,
      "outputs": []
    },
    {
      "cell_type": "code",
      "metadata": {
        "id": "F7IwicK3R6LX"
      },
      "source": [
        "# Reorganize the folder structure:\n",
        "\n",
        "BASE_DIR = \"/content/data/DS_IDRID/\"\n",
        "if not os.path.isdir(BASE_DIR + 'Train/NONDR'):\n",
        "      os.makedirs(BASE_DIR + 'Train/NONDR')\n",
        "if not os.path.isdir(BASE_DIR + 'Train/DR'):\n",
        "      os.makedirs(BASE_DIR + 'Train/DR')\n",
        "\n",
        "if not os.path.isdir(BASE_DIR + 'Test/DR'):\n",
        "      os.makedirs(BASE_DIR + 'Test/NONDR')\n",
        "if not os.path.isdir(BASE_DIR + 'Test/DR'):\n",
        "      os.makedirs(BASE_DIR + 'Test/DR')\n"
      ],
      "execution_count": 8,
      "outputs": []
    },
    {
      "cell_type": "code",
      "metadata": {
        "id": "kqS0ax_dNnj7"
      },
      "source": [
        "\n",
        "image_list = []\n",
        "for filename in glob.glob(BASE_DIR+'Train/*-0.jpg'):\n",
        "    im=Image.open(filename)\n",
        "    image_list.append([im,filename])\n",
        "for img in image_list:\n",
        "  image_path = BASE_DIR+ \"Train/NONDR\"\n",
        "  image = img[0]\n",
        "  image = image.save(f\"{image_path}/\"+ img[1].split(\"/\")[-1])"
      ],
      "execution_count": 9,
      "outputs": []
    },
    {
      "cell_type": "code",
      "metadata": {
        "id": "l0cZ-mZsTqKu"
      },
      "source": [
        "\n",
        "image_list = []\n",
        "for filename in glob.glob(BASE_DIR+'Train/*-3.jpg'):\n",
        "    im=Image.open(filename)\n",
        "    image_list.append([im,filename])\n",
        "for img in image_list:\n",
        "  image_path = BASE_DIR+ \"Train/DR\"\n",
        "  image = img[0]\n",
        "  image = image.save(f\"{image_path}/\"+ img[1].split(\"/\")[-1])"
      ],
      "execution_count": 10,
      "outputs": []
    },
    {
      "cell_type": "code",
      "metadata": {
        "id": "O0b6Ks4hUZAd"
      },
      "source": [
        "image_list = []\n",
        "for filename in glob.glob(BASE_DIR+'Train/*-4.jpg'):\n",
        "    im=Image.open(filename)\n",
        "    image_list.append([im,filename])\n",
        "for img in image_list:\n",
        "  image_path = BASE_DIR+ \"Train/DR\"\n",
        "  image = img[0]\n",
        "  image = image.save(f\"{image_path}/\"+ img[1].split(\"/\")[-1])"
      ],
      "execution_count": 11,
      "outputs": []
    },
    {
      "cell_type": "code",
      "metadata": {
        "id": "lHZAYHRrUcie"
      },
      "source": [
        "image_list = []\n",
        "for filename in glob.glob(BASE_DIR+'Test/*-0.jpg'):\n",
        "    im=Image.open(filename)\n",
        "    image_list.append([im,filename])\n",
        "for img in image_list:\n",
        "  image_path = BASE_DIR+ \"Train/NONDR\"\n",
        "  image = img[0]\n",
        "  image = image.save(f\"{image_path}/\"+ img[1].split(\"/\")[-1])"
      ],
      "execution_count": 12,
      "outputs": []
    },
    {
      "cell_type": "code",
      "metadata": {
        "id": "5wayNqzHUo_U"
      },
      "source": [
        "image_list = []\n",
        "for filename in glob.glob(BASE_DIR+'Test/*-4.jpg'):\n",
        "    im=Image.open(filename)\n",
        "    image_list.append([im,filename])\n",
        "for img in image_list:\n",
        "  image_path = BASE_DIR+ \"Test/DR\"\n",
        "  image = img[0]\n",
        "  image = image.save(f\"{image_path}/\"+ img[1].split(\"/\")[-1])"
      ],
      "execution_count": 13,
      "outputs": []
    },
    {
      "cell_type": "code",
      "metadata": {
        "id": "iERpYfwjUl9y"
      },
      "source": [
        "image_list = []\n",
        "for filename in glob.glob(BASE_DIR+'Test/*-3.jpg'):\n",
        "    im=Image.open(filename)\n",
        "    image_list.append([im,filename])\n",
        "for img in image_list:\n",
        "  image_path = BASE_DIR+ \"Test/DR\"\n",
        "  image = img[0]\n",
        "  image = image.save(f\"{image_path}/\"+ img[1].split(\"/\")[-1])"
      ],
      "execution_count": 14,
      "outputs": []
    },
    {
      "cell_type": "code",
      "metadata": {
        "id": "3eTazVBfgsLR"
      },
      "source": [
        "# get the preprocessing function of this model\n",
        "preprocess_input = tf.keras.applications.vgg16.preprocess_input"
      ],
      "execution_count": null,
      "outputs": []
    },
    {
      "cell_type": "markdown",
      "metadata": {
        "id": "1GbCweaNhZB5"
      },
      "source": [
        "Horizontal flips as data augmention methode"
      ]
    },
    {
      "cell_type": "code",
      "metadata": {
        "id": "XD4-59h0XEKL"
      },
      "source": [
        "train_gen = keras.preprocessing.image.ImageDataGenerator(preprocessing_function=preprocess_input,validation_split=0.1, ,horizontal_flip=True,)\n",
        "test_gen = keras.preprocessing.image.ImageDataGenerator(preprocessing_function=preprocess_input, horizontal_flip=True)"
      ],
      "execution_count": 32,
      "outputs": []
    },
    {
      "cell_type": "code",
      "metadata": {
        "colab": {
          "base_uri": "https://localhost:8080/"
        },
        "id": "AowYQjS_XjNe",
        "outputId": "89f8597e-1381-4ab4-e87a-d4f259134920"
      },
      "source": [
        "train_batches = train_gen.flow_from_directory(\n",
        "    '/content/data/DS_IDRID/Train',\n",
        "    target_size=(224, 224),\n",
        "    class_mode='sparse',\n",
        "    batch_size=4,\n",
        "    shuffle=True,\n",
        "    color_mode=\"rgb\",\n",
        "    classes=[\"NONDR\", \"DR\"]   \n",
        ")\n",
        "\n",
        "test_batches = test_gen.flow_from_directory(\n",
        "    '/content/data/DS_IDRID/Test',\n",
        "    target_size=(224, 224),\n",
        "    class_mode='sparse',\n",
        "    batch_size=4,\n",
        "    shuffle=True,\n",
        "    color_mode=\"rgb\",\n",
        "    classes=[\"NONDR\", \"DR\"] \n",
        ")"
      ],
      "execution_count": 33,
      "outputs": [
        {
          "output_type": "stream",
          "name": "stdout",
          "text": [
            "Found 291 images belonging to 2 classes.\n",
            "Found 32 images belonging to 2 classes.\n"
          ]
        }
      ]
    },
    {
      "cell_type": "code",
      "metadata": {
        "colab": {
          "base_uri": "https://localhost:8080/"
        },
        "id": "FXxg-_ZCvt6Z",
        "outputId": "22c909ba-f725-457b-a8f4-6c7fc02d2ee4"
      },
      "source": [
        "train_batches.shuffle"
      ],
      "execution_count": 34,
      "outputs": [
        {
          "output_type": "execute_result",
          "data": {
            "text/plain": [
              "True"
            ]
          },
          "metadata": {},
          "execution_count": 34
        }
      ]
    },
    {
      "cell_type": "code",
      "metadata": {
        "colab": {
          "base_uri": "https://localhost:8080/",
          "height": 1000
        },
        "id": "-DUWe7x1bzSN",
        "outputId": "592bfc70-9982-4984-d048-d672c67d87b3"
      },
      "source": [
        "import matplotlib.pyplot as plt\n",
        "names = [\"NONDR\", \"DR\"] \n",
        "def show(batch, pred_labels=None):\n",
        "    plt.figure(figsize=(10,10))\n",
        "    for i in range(4):\n",
        "        plt.subplot(2,2,i+1)\n",
        "        plt.xticks([])\n",
        "        plt.yticks([])\n",
        "        plt.grid(False)\n",
        "        plt.imshow(batch[0][i], cmap=plt.cm.binary)\n",
        "        # The CIFAR labels happen to be arrays, \n",
        "        # which is why you need the extra index\n",
        "        lbl = names[int(batch[1][i])]\n",
        "        if pred_labels is not None:\n",
        "            lbl += \"/ Pred:\" + names[int(pred_labels[i])]\n",
        "        plt.xlabel(lbl)\n",
        "    plt.show()\n",
        "print(\"------sample of traning dataset------------\")\n",
        "show(train_batches[0])\n",
        "print(\"------end-sample of traning dataset--------\")\n",
        "\n",
        "print(\"------sample of testing dataset------------\")\n",
        "show(test_batches[0])\n",
        "print(\"------end-sample of testing dataset--------\")"
      ],
      "execution_count": 35,
      "outputs": [
        {
          "output_type": "stream",
          "name": "stderr",
          "text": [
            "Clipping input data to the valid range for imshow with RGB data ([0..1] for floats or [0..255] for integers).\n",
            "Clipping input data to the valid range for imshow with RGB data ([0..1] for floats or [0..255] for integers).\n",
            "Clipping input data to the valid range for imshow with RGB data ([0..1] for floats or [0..255] for integers).\n",
            "Clipping input data to the valid range for imshow with RGB data ([0..1] for floats or [0..255] for integers).\n"
          ]
        },
        {
          "output_type": "stream",
          "name": "stdout",
          "text": [
            "------sample of traning dataset------------\n"
          ]
        },
        {
          "output_type": "display_data",
          "data": {
            "image/png": "[encoded data removed]",
            "text/plain": [
              "<Figure size 720x720 with 4 Axes>"
            ]
          },
          "metadata": {}
        },
        {
          "output_type": "stream",
          "name": "stderr",
          "text": [
            "Clipping input data to the valid range for imshow with RGB data ([0..1] for floats or [0..255] for integers).\n",
            "Clipping input data to the valid range for imshow with RGB data ([0..1] for floats or [0..255] for integers).\n",
            "Clipping input data to the valid range for imshow with RGB data ([0..1] for floats or [0..255] for integers).\n",
            "Clipping input data to the valid range for imshow with RGB data ([0..1] for floats or [0..255] for integers).\n"
          ]
        },
        {
          "output_type": "stream",
          "name": "stdout",
          "text": [
            "------end-sample of traning dataset--------\n",
            "------sample of testing dataset------------\n"
          ]
        },
        {
          "output_type": "display_data",
          "data": {
            "image/png": "[encoded data removed]",
            "text/plain": [
              "<Figure size 720x720 with 4 Axes>"
            ]
          },
          "metadata": {}
        },
        {
          "output_type": "stream",
          "name": "stdout",
          "text": [
            "------end-sample of testing dataset--------\n"
          ]
        }
      ]
    },
    {
      "cell_type": "code",
      "metadata": {
        "colab": {
          "base_uri": "https://localhost:8080/"
        },
        "id": "soWwZHJXZcwr",
        "outputId": "a6cd8056-0f5f-42cd-f580-18e350501d71"
      },
      "source": [
        "epochs = 5\n",
        "\n",
        "early_stopping = keras.callbacks.EarlyStopping(\n",
        "    monitor=\"val_loss\",\n",
        "    patience=5,\n",
        "    verbose=2\n",
        ")\n",
        "\n",
        "model.fit(train_batches, \n",
        "          callbacks=[early_stopping],\n",
        "          epochs=epochs, verbose=2)\n",
        "model.save(\"/content/model\", overwrite=True)"
      ],
      "execution_count": 36,
      "outputs": [
        {
          "output_type": "stream",
          "name": "stdout",
          "text": [
            "Epoch 1/5\n",
            "73/73 - 154s - loss: 0.3054 - accuracy: 0.8625\n",
            "WARNING:tensorflow:Early stopping conditioned on metric `val_loss` which is not available. Available metrics are: loss,accuracy\n",
            "Epoch 2/5\n",
            "73/73 - 151s - loss: 0.1743 - accuracy: 0.9072\n",
            "WARNING:tensorflow:Early stopping conditioned on metric `val_loss` which is not available. Available metrics are: loss,accuracy\n",
            "Epoch 3/5\n",
            "73/73 - 151s - loss: 0.1318 - accuracy: 0.9588\n",
            "WARNING:tensorflow:Early stopping conditioned on metric `val_loss` which is not available. Available metrics are: loss,accuracy\n",
            "Epoch 4/5\n",
            "73/73 - 151s - loss: 0.1456 - accuracy: 0.9450\n",
            "WARNING:tensorflow:Early stopping conditioned on metric `val_loss` which is not available. Available metrics are: loss,accuracy\n",
            "Epoch 5/5\n",
            "73/73 - 152s - loss: 0.0904 - accuracy: 0.9622\n",
            "WARNING:tensorflow:Early stopping conditioned on metric `val_loss` which is not available. Available metrics are: loss,accuracy\n",
            "INFO:tensorflow:Assets written to: /content/model/assets\n"
          ]
        }
      ]
    },
    {
      "cell_type": "code",
      "metadata": {
        "colab": {
          "base_uri": "https://localhost:8080/"
        },
        "id": "ekqikRJ6ZmZM",
        "outputId": "573331af-fe48-4a7e-fe6f-59e77e45776b"
      },
      "source": [
        "model.evaluate(test_batches, verbose=2)"
      ],
      "execution_count": 37,
      "outputs": [
        {
          "output_type": "stream",
          "name": "stdout",
          "text": [
            "8/8 - 17s - loss: 0.0973 - accuracy: 0.9688\n"
          ]
        },
        {
          "output_type": "execute_result",
          "data": {
            "text/plain": [
              "[0.09725573658943176, 0.96875]"
            ]
          },
          "metadata": {},
          "execution_count": 37
        }
      ]
    }
  ]
}